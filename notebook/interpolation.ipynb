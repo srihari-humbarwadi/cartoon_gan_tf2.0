{
 "cells": [
  {
   "cell_type": "code",
   "execution_count": 13,
   "metadata": {},
   "outputs": [
    {
     "name": "stdout",
     "output_type": "stream",
     "text": [
      "TensorFlow 2.0.0-beta0\n"
     ]
    }
   ],
   "source": [
    "import tensorflow as tf\n",
    "import cv2\n",
    "import numpy as np\n",
    "import matplotlib.pyplot as plt\n",
    "import imageio\n",
    "from tqdm import tqdm_notebook\n",
    "\n",
    "np.random.seed(69)\n",
    "print('TensorFlow', tf.__version__)"
   ]
  },
  {
   "cell_type": "code",
   "execution_count": 37,
   "metadata": {},
   "outputs": [],
   "source": [
    "H, W = 256, 256\n",
    "filters = 64\n",
    "output_stride = 16\n",
    "h_output = H // output_stride\n",
    "w_output = W // output_stride\n",
    "latent_dim = 100\n",
    "w_init = tf.initializers.glorot_uniform()\n",
    "\n",
    "def deconv_block(input_tensor, num_filters, kernel_size, strides, bn=True):\n",
    "    x = tf.keras.layers.Conv2DTranspose(filters=num_filters,\n",
    "                                        kernel_initializer=w_init,\n",
    "                                        kernel_size=kernel_size,\n",
    "                                        padding='same',\n",
    "                                        strides=strides, use_bias=False if bn else True)(input_tensor)\n",
    "    if bn:\n",
    "        x = tf.keras.layers.BatchNormalization()(x)\n",
    "        x = tf.keras.layers.ReLU()(x)\n",
    "    return x\n",
    "\n",
    "def build_generator(latent_dim=100):\n",
    "    f = [2**i for i in range(5)][::-1]\n",
    "    noise = tf.keras.layers.Input(\n",
    "        shape=(latent_dim,), name='generator_noise_input')\n",
    "    x = tf.keras.layers.Dense(f[0] * filters * h_output * w_output)(noise)\n",
    "    x = tf.keras.layers.BatchNormalization()(x)\n",
    "    x = tf.keras.layers.LeakyReLU()(x)\n",
    "    x = tf.keras.layers.Reshape(\n",
    "        target_shape=[h_output, w_output, 16 * filters])(x)\n",
    "    for i in range(1, 5):\n",
    "        x = deconv_block(x,\n",
    "                         num_filters=f[i] * filters,\n",
    "                         kernel_size=5,\n",
    "                         strides=2,\n",
    "                         bn=True)\n",
    "    x = deconv_block(x,\n",
    "                     num_filters=3,\n",
    "                     kernel_size=3,\n",
    "                     strides=1,\n",
    "                     bn=False)\n",
    "    fake_output = tf.keras.layers.Activation(\n",
    "        'tanh', name='generator_output')(x)\n",
    "    return tf.keras.Model(inputs=[noise],\n",
    "                          outputs=[fake_output],\n",
    "                          name='Generator')\n",
    "def generate(noise):\n",
    "    img =  tf.clip_by_value((generator(noise) + 1) * 127.5, 0, 255).numpy()\n",
    "    img = np.squeeze(np.uint8(img))\n",
    "    return img\n",
    "\n",
    "def interpolate(a, b, steps=50):\n",
    "    '''linear interpolation from a->b'''\n",
    "    vectors = np.zeros(shape=[steps, latent_dim])\n",
    "    for i, alpha in enumerate(np.linspace(0, 1, num=steps)):\n",
    "        vector = alpha * a + (1 - alpha) * b\n",
    "        vectors[i] = vector[0]\n",
    "    return tf.constant(vectors)\n",
    "\n",
    "def generate_gif(a, b, filename='', steps=100):\n",
    "    vectors = interpolate(a, b, steps)\n",
    "    images = np.zeros(shape=[steps, H, W, 3], dtype=np.uint8)\n",
    "    for i in tqdm_notebook(range(len(vectors))):\n",
    "        images[i] = generate(vectors[i][None, ...])\n",
    "    loop = np.concatenate([images, images[::-1, ...]])\n",
    "    imageio.mimsave(f'outputs/{filename}.gif', loop)"
   ]
  },
  {
   "cell_type": "code",
   "execution_count": null,
   "metadata": {},
   "outputs": [],
   "source": [
    "generator = build_generator(latent_dim)\n",
    "generator.load_weights('model_files/generator_weights_6.h5')"
   ]
  },
  {
   "cell_type": "code",
   "execution_count": null,
   "metadata": {},
   "outputs": [],
   "source": [
    "# noise = tf.constant(np.random.randn(64, latent_dim))\n",
    "# images = generate(noise)\n",
    "# for i in range(len(images)):\n",
    "#     plt.figure(figsize=(6, 6))\n",
    "#     plt.axis('off')\n",
    "#     plt.title(i)\n",
    "#     plt.imshow(images[i])"
   ]
  },
  {
   "cell_type": "code",
   "execution_count": 62,
   "metadata": {},
   "outputs": [],
   "source": [
    "# a = noise[30][None, ...]\n",
    "# b = noise[53][None, ...]\n",
    "\n",
    "# a = np.load('vectors/boy.npy')\n",
    "# b = np.load('vectors/boy_dark_glasses.npy')"
   ]
  },
  {
   "cell_type": "code",
   "execution_count": null,
   "metadata": {},
   "outputs": [],
   "source": [
    "plt.imshow(generate(a))"
   ]
  },
  {
   "cell_type": "code",
   "execution_count": null,
   "metadata": {},
   "outputs": [],
   "source": [
    "plt.imshow(generate(b))"
   ]
  },
  {
   "cell_type": "code",
   "execution_count": 65,
   "metadata": {},
   "outputs": [
    {
     "data": {
      "application/vnd.jupyter.widget-view+json": {
       "model_id": "da888fa1f49d4d1abe61c1962ee3353d",
       "version_major": 2,
       "version_minor": 0
      },
      "text/plain": [
       "HBox(children=(IntProgress(value=0, max=75), HTML(value='')))"
      ]
     },
     "metadata": {},
     "output_type": "display_data"
    },
    {
     "name": "stdout",
     "output_type": "stream",
     "text": [
      "\n"
     ]
    }
   ],
   "source": [
    "generate_gif(a, b, filename='boy_boy', steps=75)"
   ]
  },
  {
   "cell_type": "code",
   "execution_count": null,
   "metadata": {},
   "outputs": [],
   "source": []
  }
 ],
 "metadata": {
  "kernelspec": {
   "display_name": "Python 3",
   "language": "python",
   "name": "python3"
  },
  "language_info": {
   "codemirror_mode": {
    "name": "ipython",
    "version": 3
   },
   "file_extension": ".py",
   "mimetype": "text/x-python",
   "name": "python",
   "nbconvert_exporter": "python",
   "pygments_lexer": "ipython3",
   "version": "3.6.7"
  },
  "widgets": {
   "application/vnd.jupyter.widget-state+json": {
    "state": {
     "00ba18e2987341379236063530ff08b3": {
      "model_module": "@jupyter-widgets/controls",
      "model_module_version": "1.5.0",
      "model_name": "DescriptionStyleModel",
      "state": {
       "description_width": ""
      }
     },
     "00e0e33dea0a42dabcabfcec9d806a46": {
      "model_module": "@jupyter-widgets/controls",
      "model_module_version": "1.5.0",
      "model_name": "ProgressStyleModel",
      "state": {
       "description_width": ""
      }
     },
     "018d2740b370422ca4e44bb09cfe3d14": {
      "model_module": "@jupyter-widgets/controls",
      "model_module_version": "1.5.0",
      "model_name": "ProgressStyleModel",
      "state": {
       "description_width": ""
      }
     },
     "054157b755e149ef8fdd201d927c1260": {
      "model_module": "@jupyter-widgets/base",
      "model_module_version": "1.2.0",
      "model_name": "LayoutModel",
      "state": {}
     },
     "054df412099f4158acc5e8789118f61b": {
      "model_module": "@jupyter-widgets/controls",
      "model_module_version": "1.5.0",
      "model_name": "ProgressStyleModel",
      "state": {
       "description_width": ""
      }
     },
     "073dbfa5f35a451290100c8ab3d280c1": {
      "model_module": "@jupyter-widgets/controls",
      "model_module_version": "1.5.0",
      "model_name": "DescriptionStyleModel",
      "state": {
       "description_width": ""
      }
     },
     "0fa3dd73104e40ff8616ebaf9926b2af": {
      "model_module": "@jupyter-widgets/controls",
      "model_module_version": "1.5.0",
      "model_name": "HBoxModel",
      "state": {
       "children": [
        "IPY_MODEL_c6f41d5972064539aae7e40f658b2b93",
        "IPY_MODEL_7aeef7150a344f9ba93a2132969f13c0"
       ],
       "layout": "IPY_MODEL_5ec8b5e6fdcf4cfba0c8bbe2933a17b2"
      }
     },
     "19ca502cf17641c1b9e709651326d0d4": {
      "model_module": "@jupyter-widgets/controls",
      "model_module_version": "1.5.0",
      "model_name": "DescriptionStyleModel",
      "state": {
       "description_width": ""
      }
     },
     "1af8297d094f444e959040dc65a5e44e": {
      "model_module": "@jupyter-widgets/base",
      "model_module_version": "1.2.0",
      "model_name": "LayoutModel",
      "state": {}
     },
     "1be2ee76e3b34f73af5629b0395edd04": {
      "model_module": "@jupyter-widgets/controls",
      "model_module_version": "1.5.0",
      "model_name": "HTMLModel",
      "state": {
       "layout": "IPY_MODEL_ef1e371715ea4b87ae49464e3d45f12c",
       "style": "IPY_MODEL_073dbfa5f35a451290100c8ab3d280c1",
       "value": "100% 75/75 [00:01&lt;00:00, 48.39it/s]"
      }
     },
     "2094e27809cc4227a89a3107cbc9e05c": {
      "model_module": "@jupyter-widgets/base",
      "model_module_version": "1.2.0",
      "model_name": "LayoutModel",
      "state": {}
     },
     "2195474bfa6244089a96f5916769838a": {
      "model_module": "@jupyter-widgets/base",
      "model_module_version": "1.2.0",
      "model_name": "LayoutModel",
      "state": {}
     },
     "230e18184e8c44d79c0c4d3d4af77697": {
      "model_module": "@jupyter-widgets/base",
      "model_module_version": "1.2.0",
      "model_name": "LayoutModel",
      "state": {}
     },
     "253d573db5524c5f9283d11f8fa2f5f7": {
      "model_module": "@jupyter-widgets/controls",
      "model_module_version": "1.5.0",
      "model_name": "ProgressStyleModel",
      "state": {
       "description_width": ""
      }
     },
     "26ac981f70554ccbb474719dc1322542": {
      "model_module": "@jupyter-widgets/base",
      "model_module_version": "1.2.0",
      "model_name": "LayoutModel",
      "state": {}
     },
     "2813c4887dad4e55bf7d96cc62bc11e5": {
      "model_module": "@jupyter-widgets/controls",
      "model_module_version": "1.5.0",
      "model_name": "HBoxModel",
      "state": {
       "children": [
        "IPY_MODEL_4be6d26a15c34c2db3bb2a0731aae2fd",
        "IPY_MODEL_be193c200ffc48f282ed184f6c9a7994"
       ],
       "layout": "IPY_MODEL_77ab52c64247483997240e1b1fc8c718"
      }
     },
     "2a6c18256be24ee7a1e97d40b6b7f372": {
      "model_module": "@jupyter-widgets/base",
      "model_module_version": "1.2.0",
      "model_name": "LayoutModel",
      "state": {}
     },
     "2b93f0480c564556990936b48443518d": {
      "model_module": "@jupyter-widgets/controls",
      "model_module_version": "1.5.0",
      "model_name": "HBoxModel",
      "state": {
       "children": [
        "IPY_MODEL_9f5acb323b344c7b97f54a30003330b0",
        "IPY_MODEL_dfcba4c22d9d4342aef3a369e58c7490"
       ],
       "layout": "IPY_MODEL_5007d2e84f284d90b32052bf1be5c0e6"
      }
     },
     "2befe34cdfe2477fbdc8420a762f099b": {
      "model_module": "@jupyter-widgets/base",
      "model_module_version": "1.2.0",
      "model_name": "LayoutModel",
      "state": {}
     },
     "2c56c6364f40402ba89ae7e337a25cb2": {
      "model_module": "@jupyter-widgets/controls",
      "model_module_version": "1.5.0",
      "model_name": "IntProgressModel",
      "state": {
       "bar_style": "success",
       "layout": "IPY_MODEL_2c7c93b41ac745e4a40b05d8f99b292e",
       "max": 75,
       "style": "IPY_MODEL_5c6fff96a3d446ba91fce2b7303f278a",
       "value": 75
      }
     },
     "2c7c93b41ac745e4a40b05d8f99b292e": {
      "model_module": "@jupyter-widgets/base",
      "model_module_version": "1.2.0",
      "model_name": "LayoutModel",
      "state": {}
     },
     "32261387d04749e4afeded01a170fc75": {
      "model_module": "@jupyter-widgets/base",
      "model_module_version": "1.2.0",
      "model_name": "LayoutModel",
      "state": {}
     },
     "3cb09d1a87474128830b77e1c957557f": {
      "model_module": "@jupyter-widgets/controls",
      "model_module_version": "1.5.0",
      "model_name": "ProgressStyleModel",
      "state": {
       "description_width": ""
      }
     },
     "3cda6d11b06944468c12acc2a391a3ac": {
      "model_module": "@jupyter-widgets/controls",
      "model_module_version": "1.5.0",
      "model_name": "HBoxModel",
      "state": {
       "children": [
        "IPY_MODEL_7eac782ae512408f913f4896b1090a36",
        "IPY_MODEL_6c6935ec06184d94ae90fde651476336"
       ],
       "layout": "IPY_MODEL_2a6c18256be24ee7a1e97d40b6b7f372"
      }
     },
     "4242483f3784407b8877bf3d640d0c70": {
      "model_module": "@jupyter-widgets/controls",
      "model_module_version": "1.5.0",
      "model_name": "IntProgressModel",
      "state": {
       "bar_style": "success",
       "layout": "IPY_MODEL_d4fc803e942c4925b61aa5ad9f252568",
       "max": 200,
       "style": "IPY_MODEL_927cc8e4286941f6b61e8411c53b3485",
       "value": 200
      }
     },
     "464f9ada85fd4db8a91216331f7a0f45": {
      "model_module": "@jupyter-widgets/controls",
      "model_module_version": "1.5.0",
      "model_name": "HTMLModel",
      "state": {
       "layout": "IPY_MODEL_ec91675052c54b90b48ab33378388221",
       "style": "IPY_MODEL_6091d7535a3140aaab7584b225392aa0",
       "value": "100% 75/75 [00:01&lt;00:00, 48.42it/s]"
      }
     },
     "4be6d26a15c34c2db3bb2a0731aae2fd": {
      "model_module": "@jupyter-widgets/controls",
      "model_module_version": "1.5.0",
      "model_name": "IntProgressModel",
      "state": {
       "bar_style": "success",
       "layout": "IPY_MODEL_fb7ba087c6164c10877cba24c773809d",
       "max": 75,
       "style": "IPY_MODEL_253d573db5524c5f9283d11f8fa2f5f7",
       "value": 75
      }
     },
     "4c39c015a71347c5a2233dfc4172228c": {
      "model_module": "@jupyter-widgets/base",
      "model_module_version": "1.2.0",
      "model_name": "LayoutModel",
      "state": {}
     },
     "4cce3c4b72cc4958bd9214900a1fd0b0": {
      "model_module": "@jupyter-widgets/base",
      "model_module_version": "1.2.0",
      "model_name": "LayoutModel",
      "state": {}
     },
     "4f40864fe7c44178bce4db15f7b74db8": {
      "model_module": "@jupyter-widgets/base",
      "model_module_version": "1.2.0",
      "model_name": "LayoutModel",
      "state": {}
     },
     "5007d2e84f284d90b32052bf1be5c0e6": {
      "model_module": "@jupyter-widgets/base",
      "model_module_version": "1.2.0",
      "model_name": "LayoutModel",
      "state": {}
     },
     "541563a21b4644618a276a3801aff039": {
      "model_module": "@jupyter-widgets/controls",
      "model_module_version": "1.5.0",
      "model_name": "IntProgressModel",
      "state": {
       "bar_style": "success",
       "layout": "IPY_MODEL_88059c4016944d45a790a23de04c8193",
       "max": 75,
       "style": "IPY_MODEL_3cb09d1a87474128830b77e1c957557f",
       "value": 75
      }
     },
     "5437a3e2cbf34aeb8489fd9c6ad396fb": {
      "model_module": "@jupyter-widgets/controls",
      "model_module_version": "1.5.0",
      "model_name": "DescriptionStyleModel",
      "state": {
       "description_width": ""
      }
     },
     "5755f41380ef408c91df36a4311ec461": {
      "model_module": "@jupyter-widgets/base",
      "model_module_version": "1.2.0",
      "model_name": "LayoutModel",
      "state": {}
     },
     "57f2ff5bb6ec49f8b3bfb35ce1290728": {
      "model_module": "@jupyter-widgets/controls",
      "model_module_version": "1.5.0",
      "model_name": "HTMLModel",
      "state": {
       "layout": "IPY_MODEL_4f40864fe7c44178bce4db15f7b74db8",
       "style": "IPY_MODEL_f07c40d4087145af9a3c745f07dd0c8e",
       "value": "100% 100/100 [00:01&lt;00:00, 50.04it/s]"
      }
     },
     "57ff274d6d1d432aabd8ea9f9c701765": {
      "model_module": "@jupyter-widgets/controls",
      "model_module_version": "1.5.0",
      "model_name": "IntProgressModel",
      "state": {
       "bar_style": "success",
       "layout": "IPY_MODEL_741e14bb212e4ce7bac8e76295ee8e05",
       "style": "IPY_MODEL_869990f195a34e6d8004b01c213ae6a9",
       "value": 100
      }
     },
     "5c6fff96a3d446ba91fce2b7303f278a": {
      "model_module": "@jupyter-widgets/controls",
      "model_module_version": "1.5.0",
      "model_name": "ProgressStyleModel",
      "state": {
       "description_width": ""
      }
     },
     "5d54c9e2c4d74c7390f091865f1d2e4b": {
      "model_module": "@jupyter-widgets/controls",
      "model_module_version": "1.5.0",
      "model_name": "HBoxModel",
      "state": {
       "children": [
        "IPY_MODEL_b86d5b1379b64aca80d852cba071b2b5",
        "IPY_MODEL_e7d8556204344efcb8eb61399b3d1880"
       ],
       "layout": "IPY_MODEL_2195474bfa6244089a96f5916769838a"
      }
     },
     "5ec8b5e6fdcf4cfba0c8bbe2933a17b2": {
      "model_module": "@jupyter-widgets/base",
      "model_module_version": "1.2.0",
      "model_name": "LayoutModel",
      "state": {}
     },
     "6091d7535a3140aaab7584b225392aa0": {
      "model_module": "@jupyter-widgets/controls",
      "model_module_version": "1.5.0",
      "model_name": "DescriptionStyleModel",
      "state": {
       "description_width": ""
      }
     },
     "6149fed91c5b48918e9085ebe5633234": {
      "model_module": "@jupyter-widgets/controls",
      "model_module_version": "1.5.0",
      "model_name": "DescriptionStyleModel",
      "state": {
       "description_width": ""
      }
     },
     "630eb08f54014df2987f591ecfc3f39e": {
      "model_module": "@jupyter-widgets/base",
      "model_module_version": "1.2.0",
      "model_name": "LayoutModel",
      "state": {}
     },
     "66be0d9511584a78a997e927027cf7d5": {
      "model_module": "@jupyter-widgets/controls",
      "model_module_version": "1.5.0",
      "model_name": "ProgressStyleModel",
      "state": {
       "description_width": ""
      }
     },
     "68e4262b538e45faa6d0f00827804d03": {
      "model_module": "@jupyter-widgets/base",
      "model_module_version": "1.2.0",
      "model_name": "LayoutModel",
      "state": {}
     },
     "6c6935ec06184d94ae90fde651476336": {
      "model_module": "@jupyter-widgets/controls",
      "model_module_version": "1.5.0",
      "model_name": "HTMLModel",
      "state": {
       "layout": "IPY_MODEL_6cc5a661ad3b4c59bba932ab1a584c7f",
       "style": "IPY_MODEL_6149fed91c5b48918e9085ebe5633234",
       "value": "100% 75/75 [00:01&lt;00:00, 51.05it/s]"
      }
     },
     "6c7cea0a425e435487f71f1da415be34": {
      "model_module": "@jupyter-widgets/base",
      "model_module_version": "1.2.0",
      "model_name": "LayoutModel",
      "state": {}
     },
     "6cc5a661ad3b4c59bba932ab1a584c7f": {
      "model_module": "@jupyter-widgets/base",
      "model_module_version": "1.2.0",
      "model_name": "LayoutModel",
      "state": {}
     },
     "6db5ddca3a00466faf322eb8dd2fc9bb": {
      "model_module": "@jupyter-widgets/base",
      "model_module_version": "1.2.0",
      "model_name": "LayoutModel",
      "state": {}
     },
     "709fc82a25db4504bfc86cfc7123e9d3": {
      "model_module": "@jupyter-widgets/base",
      "model_module_version": "1.2.0",
      "model_name": "LayoutModel",
      "state": {}
     },
     "7222f4dccd3a4009a17d14ec8fc1af4e": {
      "model_module": "@jupyter-widgets/controls",
      "model_module_version": "1.5.0",
      "model_name": "HBoxModel",
      "state": {
       "children": [
        "IPY_MODEL_4242483f3784407b8877bf3d640d0c70",
        "IPY_MODEL_8ae07c0eef5a45e5ae8c13c57dac8f4d"
       ],
       "layout": "IPY_MODEL_2094e27809cc4227a89a3107cbc9e05c"
      }
     },
     "7290d3bb386a479e8e407a9fad759a2d": {
      "model_module": "@jupyter-widgets/controls",
      "model_module_version": "1.5.0",
      "model_name": "ProgressStyleModel",
      "state": {
       "description_width": ""
      }
     },
     "741e14bb212e4ce7bac8e76295ee8e05": {
      "model_module": "@jupyter-widgets/base",
      "model_module_version": "1.2.0",
      "model_name": "LayoutModel",
      "state": {}
     },
     "75d665528dbe4f8eaf26cb8b85484e77": {
      "model_module": "@jupyter-widgets/base",
      "model_module_version": "1.2.0",
      "model_name": "LayoutModel",
      "state": {}
     },
     "77ab52c64247483997240e1b1fc8c718": {
      "model_module": "@jupyter-widgets/base",
      "model_module_version": "1.2.0",
      "model_name": "LayoutModel",
      "state": {}
     },
     "7aeef7150a344f9ba93a2132969f13c0": {
      "model_module": "@jupyter-widgets/controls",
      "model_module_version": "1.5.0",
      "model_name": "HTMLModel",
      "state": {
       "layout": "IPY_MODEL_f60efaf34bd6446fbddb25172d12d79c",
       "style": "IPY_MODEL_bf24768fcf0e4c1db88156f0891be9f0",
       "value": "100% 75/75 [00:01&lt;00:00, 49.53it/s]"
      }
     },
     "7e05fc1a912c4875834ea72f0013a67a": {
      "model_module": "@jupyter-widgets/base",
      "model_module_version": "1.2.0",
      "model_name": "LayoutModel",
      "state": {}
     },
     "7eac782ae512408f913f4896b1090a36": {
      "model_module": "@jupyter-widgets/controls",
      "model_module_version": "1.5.0",
      "model_name": "IntProgressModel",
      "state": {
       "bar_style": "success",
       "layout": "IPY_MODEL_7e05fc1a912c4875834ea72f0013a67a",
       "max": 75,
       "style": "IPY_MODEL_fa11c3eb652c484aa9c4045d29789550",
       "value": 75
      }
     },
     "7f22d2cdba6a4cf796c2e30bc716f78f": {
      "model_module": "@jupyter-widgets/controls",
      "model_module_version": "1.5.0",
      "model_name": "IntProgressModel",
      "state": {
       "bar_style": "success",
       "layout": "IPY_MODEL_4cce3c4b72cc4958bd9214900a1fd0b0",
       "max": 75,
       "style": "IPY_MODEL_d3eabe2fb33d4b34a793008bfd857ade",
       "value": 75
      }
     },
     "809f1bda1ebc437598f22d06b568bd61": {
      "model_module": "@jupyter-widgets/base",
      "model_module_version": "1.2.0",
      "model_name": "LayoutModel",
      "state": {}
     },
     "869990f195a34e6d8004b01c213ae6a9": {
      "model_module": "@jupyter-widgets/controls",
      "model_module_version": "1.5.0",
      "model_name": "ProgressStyleModel",
      "state": {
       "description_width": ""
      }
     },
     "88059c4016944d45a790a23de04c8193": {
      "model_module": "@jupyter-widgets/base",
      "model_module_version": "1.2.0",
      "model_name": "LayoutModel",
      "state": {}
     },
     "89cd2f6e6bd847fe8770a6803a4272c0": {
      "model_module": "@jupyter-widgets/base",
      "model_module_version": "1.2.0",
      "model_name": "LayoutModel",
      "state": {}
     },
     "8a45d58f455045ce8235605e3b8a27e0": {
      "model_module": "@jupyter-widgets/controls",
      "model_module_version": "1.5.0",
      "model_name": "DescriptionStyleModel",
      "state": {
       "description_width": ""
      }
     },
     "8ae07c0eef5a45e5ae8c13c57dac8f4d": {
      "model_module": "@jupyter-widgets/controls",
      "model_module_version": "1.5.0",
      "model_name": "HTMLModel",
      "state": {
       "layout": "IPY_MODEL_75d665528dbe4f8eaf26cb8b85484e77",
       "style": "IPY_MODEL_cb9488f33e584ba4b17e01993c276e8b",
       "value": "100% 200/200 [00:04&lt;00:00, 49.89it/s]"
      }
     },
     "8b914f3f0e5d457f966fd958506fecd4": {
      "model_module": "@jupyter-widgets/controls",
      "model_module_version": "1.5.0",
      "model_name": "HBoxModel",
      "state": {
       "children": [
        "IPY_MODEL_57ff274d6d1d432aabd8ea9f9c701765",
        "IPY_MODEL_57f2ff5bb6ec49f8b3bfb35ce1290728"
       ],
       "layout": "IPY_MODEL_9b2d92f3dbd04d02bb854847214bf839"
      }
     },
     "8cdf3b442bf9451f87e4ebfb4110eb11": {
      "model_module": "@jupyter-widgets/controls",
      "model_module_version": "1.5.0",
      "model_name": "HTMLModel",
      "state": {
       "layout": "IPY_MODEL_a59e8e56ba0e447f9f6fa0d092b865db",
       "style": "IPY_MODEL_c9ab6b6591994da1973f5864e56b9648",
       "value": "100% 75/75 [00:01&lt;00:00, 50.86it/s]"
      }
     },
     "91a664f0474f48099e79a64ca5b79199": {
      "model_module": "@jupyter-widgets/controls",
      "model_module_version": "1.5.0",
      "model_name": "IntProgressModel",
      "state": {
       "bar_style": "success",
       "layout": "IPY_MODEL_f8f4f7c8096e41e1ae7988ca774b1838",
       "max": 150,
       "style": "IPY_MODEL_00e0e33dea0a42dabcabfcec9d806a46",
       "value": 150
      }
     },
     "927cc8e4286941f6b61e8411c53b3485": {
      "model_module": "@jupyter-widgets/controls",
      "model_module_version": "1.5.0",
      "model_name": "ProgressStyleModel",
      "state": {
       "description_width": ""
      }
     },
     "95f7e90a3b4f46a1840e8f15a8db2c2a": {
      "model_module": "@jupyter-widgets/base",
      "model_module_version": "1.2.0",
      "model_name": "LayoutModel",
      "state": {}
     },
     "968e164ce6f64688a8e5d1ab2130fa34": {
      "model_module": "@jupyter-widgets/base",
      "model_module_version": "1.2.0",
      "model_name": "LayoutModel",
      "state": {}
     },
     "9b2d92f3dbd04d02bb854847214bf839": {
      "model_module": "@jupyter-widgets/base",
      "model_module_version": "1.2.0",
      "model_name": "LayoutModel",
      "state": {}
     },
     "9dfb8cdf84ee495fb4f32aeee1ebc8b7": {
      "model_module": "@jupyter-widgets/base",
      "model_module_version": "1.2.0",
      "model_name": "LayoutModel",
      "state": {}
     },
     "9f5acb323b344c7b97f54a30003330b0": {
      "model_module": "@jupyter-widgets/controls",
      "model_module_version": "1.5.0",
      "model_name": "IntProgressModel",
      "state": {
       "bar_style": "success",
       "layout": "IPY_MODEL_fe46bd5d867346f59d2cc7deef4f89b4",
       "max": 75,
       "style": "IPY_MODEL_ee1f225e3c824f949fc5dd1894e156f0",
       "value": 75
      }
     },
     "a3a3c7e1e04b470d8e9d5209e415f609": {
      "model_module": "@jupyter-widgets/controls",
      "model_module_version": "1.5.0",
      "model_name": "DescriptionStyleModel",
      "state": {
       "description_width": ""
      }
     },
     "a4d38381cda045abab76bd4c3a8bb486": {
      "model_module": "@jupyter-widgets/controls",
      "model_module_version": "1.5.0",
      "model_name": "DescriptionStyleModel",
      "state": {
       "description_width": ""
      }
     },
     "a59e8e56ba0e447f9f6fa0d092b865db": {
      "model_module": "@jupyter-widgets/base",
      "model_module_version": "1.2.0",
      "model_name": "LayoutModel",
      "state": {}
     },
     "ab5c8fa3eca9430c8579e4baea58af06": {
      "model_module": "@jupyter-widgets/base",
      "model_module_version": "1.2.0",
      "model_name": "LayoutModel",
      "state": {}
     },
     "abd259b9c1ef473c8b82cd8e397eceaf": {
      "model_module": "@jupyter-widgets/controls",
      "model_module_version": "1.5.0",
      "model_name": "HBoxModel",
      "state": {
       "children": [
        "IPY_MODEL_91a664f0474f48099e79a64ca5b79199",
        "IPY_MODEL_f741b525e4e6487da7e91a9333e0ec5c"
       ],
       "layout": "IPY_MODEL_809f1bda1ebc437598f22d06b568bd61"
      }
     },
     "ac4fef627ad04d08af90558bba45106a": {
      "model_module": "@jupyter-widgets/controls",
      "model_module_version": "1.5.0",
      "model_name": "HBoxModel",
      "state": {
       "children": [
        "IPY_MODEL_e339f14b7fcc4474b685f792a81c62bf",
        "IPY_MODEL_de6d9db6def64a8aa9c2ce82762b78a6"
       ],
       "layout": "IPY_MODEL_2befe34cdfe2477fbdc8420a762f099b"
      }
     },
     "b06bc0686dee4ef594d4debd38225031": {
      "model_module": "@jupyter-widgets/controls",
      "model_module_version": "1.5.0",
      "model_name": "HTMLModel",
      "state": {
       "layout": "IPY_MODEL_26ac981f70554ccbb474719dc1322542",
       "style": "IPY_MODEL_f7ceafca4e3248a689f03e1faa3fd0c0",
       "value": "100% 200/200 [00:04&lt;00:00, 49.90it/s]"
      }
     },
     "b2edc6fe284846758d4db99c1b55b905": {
      "model_module": "@jupyter-widgets/controls",
      "model_module_version": "1.5.0",
      "model_name": "IntProgressModel",
      "state": {
       "bar_style": "success",
       "layout": "IPY_MODEL_1af8297d094f444e959040dc65a5e44e",
       "max": 75,
       "style": "IPY_MODEL_018d2740b370422ca4e44bb09cfe3d14",
       "value": 75
      }
     },
     "b40ce1eca25a4b8a83ea64ba828f5108": {
      "model_module": "@jupyter-widgets/controls",
      "model_module_version": "1.5.0",
      "model_name": "HBoxModel",
      "state": {
       "children": [
        "IPY_MODEL_2c56c6364f40402ba89ae7e337a25cb2",
        "IPY_MODEL_464f9ada85fd4db8a91216331f7a0f45"
       ],
       "layout": "IPY_MODEL_89cd2f6e6bd847fe8770a6803a4272c0"
      }
     },
     "b86d5b1379b64aca80d852cba071b2b5": {
      "model_module": "@jupyter-widgets/controls",
      "model_module_version": "1.5.0",
      "model_name": "IntProgressModel",
      "state": {
       "bar_style": "success",
       "layout": "IPY_MODEL_fbb04e0241db4b51825c0e5bd9a765c2",
       "style": "IPY_MODEL_7290d3bb386a479e8e407a9fad759a2d",
       "value": 100
      }
     },
     "b872d669bbf6486d87899aabc875d378": {
      "model_module": "@jupyter-widgets/base",
      "model_module_version": "1.2.0",
      "model_name": "LayoutModel",
      "state": {}
     },
     "b96c967ef9da490fada6350706419baa": {
      "model_module": "@jupyter-widgets/controls",
      "model_module_version": "1.5.0",
      "model_name": "HBoxModel",
      "state": {
       "children": [
        "IPY_MODEL_541563a21b4644618a276a3801aff039",
        "IPY_MODEL_8cdf3b442bf9451f87e4ebfb4110eb11"
       ],
       "layout": "IPY_MODEL_5755f41380ef408c91df36a4311ec461"
      }
     },
     "be193c200ffc48f282ed184f6c9a7994": {
      "model_module": "@jupyter-widgets/controls",
      "model_module_version": "1.5.0",
      "model_name": "HTMLModel",
      "state": {
       "layout": "IPY_MODEL_054157b755e149ef8fdd201d927c1260",
       "style": "IPY_MODEL_8a45d58f455045ce8235605e3b8a27e0",
       "value": "100% 75/75 [00:01&lt;00:00, 48.82it/s]"
      }
     },
     "bf24768fcf0e4c1db88156f0891be9f0": {
      "model_module": "@jupyter-widgets/controls",
      "model_module_version": "1.5.0",
      "model_name": "DescriptionStyleModel",
      "state": {
       "description_width": ""
      }
     },
     "c6f41d5972064539aae7e40f658b2b93": {
      "model_module": "@jupyter-widgets/controls",
      "model_module_version": "1.5.0",
      "model_name": "IntProgressModel",
      "state": {
       "bar_style": "success",
       "layout": "IPY_MODEL_4c39c015a71347c5a2233dfc4172228c",
       "max": 75,
       "style": "IPY_MODEL_66be0d9511584a78a997e927027cf7d5",
       "value": 75
      }
     },
     "c9ab6b6591994da1973f5864e56b9648": {
      "model_module": "@jupyter-widgets/controls",
      "model_module_version": "1.5.0",
      "model_name": "DescriptionStyleModel",
      "state": {
       "description_width": ""
      }
     },
     "cb9488f33e584ba4b17e01993c276e8b": {
      "model_module": "@jupyter-widgets/controls",
      "model_module_version": "1.5.0",
      "model_name": "DescriptionStyleModel",
      "state": {
       "description_width": ""
      }
     },
     "cccc1c0208f24ae3b33211f7d49d365b": {
      "model_module": "@jupyter-widgets/controls",
      "model_module_version": "1.5.0",
      "model_name": "DescriptionStyleModel",
      "state": {
       "description_width": ""
      }
     },
     "d3eabe2fb33d4b34a793008bfd857ade": {
      "model_module": "@jupyter-widgets/controls",
      "model_module_version": "1.5.0",
      "model_name": "ProgressStyleModel",
      "state": {
       "description_width": ""
      }
     },
     "d4fc803e942c4925b61aa5ad9f252568": {
      "model_module": "@jupyter-widgets/base",
      "model_module_version": "1.2.0",
      "model_name": "LayoutModel",
      "state": {}
     },
     "d50c4f27724f4c5ba9a7efff5d048c9c": {
      "model_module": "@jupyter-widgets/controls",
      "model_module_version": "1.5.0",
      "model_name": "HBoxModel",
      "state": {
       "children": [
        "IPY_MODEL_ee9ab3053e33435b95929eaf50cfe260",
        "IPY_MODEL_e1c717150a0a409dbfbadbe10a16146b"
       ],
       "layout": "IPY_MODEL_230e18184e8c44d79c0c4d3d4af77697"
      }
     },
     "d9ff5936455541b5b26b7dd91711d9c0": {
      "model_module": "@jupyter-widgets/controls",
      "model_module_version": "1.5.0",
      "model_name": "HBoxModel",
      "state": {
       "children": [
        "IPY_MODEL_f96d13e25b1c405ab88b66137f99e608",
        "IPY_MODEL_b06bc0686dee4ef594d4debd38225031"
       ],
       "layout": "IPY_MODEL_630eb08f54014df2987f591ecfc3f39e"
      }
     },
     "da888fa1f49d4d1abe61c1962ee3353d": {
      "model_module": "@jupyter-widgets/controls",
      "model_module_version": "1.5.0",
      "model_name": "HBoxModel",
      "state": {
       "children": [
        "IPY_MODEL_b2edc6fe284846758d4db99c1b55b905",
        "IPY_MODEL_fc2139b1551f4af98de664a5222fd0a4"
       ],
       "layout": "IPY_MODEL_6db5ddca3a00466faf322eb8dd2fc9bb"
      }
     },
     "de6d9db6def64a8aa9c2ce82762b78a6": {
      "model_module": "@jupyter-widgets/controls",
      "model_module_version": "1.5.0",
      "model_name": "HTMLModel",
      "state": {
       "layout": "IPY_MODEL_b872d669bbf6486d87899aabc875d378",
       "style": "IPY_MODEL_a4d38381cda045abab76bd4c3a8bb486",
       "value": "100% 75/75 [00:01&lt;00:00, 50.52it/s]"
      }
     },
     "dfcba4c22d9d4342aef3a369e58c7490": {
      "model_module": "@jupyter-widgets/controls",
      "model_module_version": "1.5.0",
      "model_name": "HTMLModel",
      "state": {
       "layout": "IPY_MODEL_dfeab5c857a1452cacabd8ec3719b2f8",
       "style": "IPY_MODEL_00ba18e2987341379236063530ff08b3",
       "value": "100% 75/75 [00:01&lt;00:00, 52.53it/s]"
      }
     },
     "dfeab5c857a1452cacabd8ec3719b2f8": {
      "model_module": "@jupyter-widgets/base",
      "model_module_version": "1.2.0",
      "model_name": "LayoutModel",
      "state": {}
     },
     "e1c717150a0a409dbfbadbe10a16146b": {
      "model_module": "@jupyter-widgets/controls",
      "model_module_version": "1.5.0",
      "model_name": "HTMLModel",
      "state": {
       "layout": "IPY_MODEL_709fc82a25db4504bfc86cfc7123e9d3",
       "style": "IPY_MODEL_cccc1c0208f24ae3b33211f7d49d365b",
       "value": "100% 200/200 [00:00&lt;00:00, 2074.49it/s]"
      }
     },
     "e339f14b7fcc4474b685f792a81c62bf": {
      "model_module": "@jupyter-widgets/controls",
      "model_module_version": "1.5.0",
      "model_name": "IntProgressModel",
      "state": {
       "bar_style": "success",
       "layout": "IPY_MODEL_968e164ce6f64688a8e5d1ab2130fa34",
       "max": 75,
       "style": "IPY_MODEL_f023d948822246458209cdb061be0fdc",
       "value": 75
      }
     },
     "e7d8556204344efcb8eb61399b3d1880": {
      "model_module": "@jupyter-widgets/controls",
      "model_module_version": "1.5.0",
      "model_name": "HTMLModel",
      "state": {
       "layout": "IPY_MODEL_32261387d04749e4afeded01a170fc75",
       "style": "IPY_MODEL_a3a3c7e1e04b470d8e9d5209e415f609",
       "value": "100% 100/100 [00:01&lt;00:00, 52.51it/s]"
      }
     },
     "ec91675052c54b90b48ab33378388221": {
      "model_module": "@jupyter-widgets/base",
      "model_module_version": "1.2.0",
      "model_name": "LayoutModel",
      "state": {}
     },
     "ee1f225e3c824f949fc5dd1894e156f0": {
      "model_module": "@jupyter-widgets/controls",
      "model_module_version": "1.5.0",
      "model_name": "ProgressStyleModel",
      "state": {
       "description_width": ""
      }
     },
     "ee9ab3053e33435b95929eaf50cfe260": {
      "model_module": "@jupyter-widgets/controls",
      "model_module_version": "1.5.0",
      "model_name": "IntProgressModel",
      "state": {
       "bar_style": "success",
       "layout": "IPY_MODEL_95f7e90a3b4f46a1840e8f15a8db2c2a",
       "max": 200,
       "style": "IPY_MODEL_f6d2e7166e0443a18b3001f9266242a8",
       "value": 200
      }
     },
     "ef1e371715ea4b87ae49464e3d45f12c": {
      "model_module": "@jupyter-widgets/base",
      "model_module_version": "1.2.0",
      "model_name": "LayoutModel",
      "state": {}
     },
     "f023d948822246458209cdb061be0fdc": {
      "model_module": "@jupyter-widgets/controls",
      "model_module_version": "1.5.0",
      "model_name": "ProgressStyleModel",
      "state": {
       "description_width": ""
      }
     },
     "f07c40d4087145af9a3c745f07dd0c8e": {
      "model_module": "@jupyter-widgets/controls",
      "model_module_version": "1.5.0",
      "model_name": "DescriptionStyleModel",
      "state": {
       "description_width": ""
      }
     },
     "f45de9e15ed94ba79369ea11412d504e": {
      "model_module": "@jupyter-widgets/controls",
      "model_module_version": "1.5.0",
      "model_name": "HBoxModel",
      "state": {
       "children": [
        "IPY_MODEL_7f22d2cdba6a4cf796c2e30bc716f78f",
        "IPY_MODEL_1be2ee76e3b34f73af5629b0395edd04"
       ],
       "layout": "IPY_MODEL_6c7cea0a425e435487f71f1da415be34"
      }
     },
     "f60efaf34bd6446fbddb25172d12d79c": {
      "model_module": "@jupyter-widgets/base",
      "model_module_version": "1.2.0",
      "model_name": "LayoutModel",
      "state": {}
     },
     "f6d2e7166e0443a18b3001f9266242a8": {
      "model_module": "@jupyter-widgets/controls",
      "model_module_version": "1.5.0",
      "model_name": "ProgressStyleModel",
      "state": {
       "description_width": ""
      }
     },
     "f741b525e4e6487da7e91a9333e0ec5c": {
      "model_module": "@jupyter-widgets/controls",
      "model_module_version": "1.5.0",
      "model_name": "HTMLModel",
      "state": {
       "layout": "IPY_MODEL_ab5c8fa3eca9430c8579e4baea58af06",
       "style": "IPY_MODEL_5437a3e2cbf34aeb8489fd9c6ad396fb",
       "value": "100% 150/150 [00:02&lt;00:00, 51.11it/s]"
      }
     },
     "f7ceafca4e3248a689f03e1faa3fd0c0": {
      "model_module": "@jupyter-widgets/controls",
      "model_module_version": "1.5.0",
      "model_name": "DescriptionStyleModel",
      "state": {
       "description_width": ""
      }
     },
     "f8f4f7c8096e41e1ae7988ca774b1838": {
      "model_module": "@jupyter-widgets/base",
      "model_module_version": "1.2.0",
      "model_name": "LayoutModel",
      "state": {}
     },
     "f96d13e25b1c405ab88b66137f99e608": {
      "model_module": "@jupyter-widgets/controls",
      "model_module_version": "1.5.0",
      "model_name": "IntProgressModel",
      "state": {
       "bar_style": "success",
       "layout": "IPY_MODEL_68e4262b538e45faa6d0f00827804d03",
       "max": 200,
       "style": "IPY_MODEL_054df412099f4158acc5e8789118f61b",
       "value": 200
      }
     },
     "fa11c3eb652c484aa9c4045d29789550": {
      "model_module": "@jupyter-widgets/controls",
      "model_module_version": "1.5.0",
      "model_name": "ProgressStyleModel",
      "state": {
       "description_width": ""
      }
     },
     "fb7ba087c6164c10877cba24c773809d": {
      "model_module": "@jupyter-widgets/base",
      "model_module_version": "1.2.0",
      "model_name": "LayoutModel",
      "state": {}
     },
     "fbb04e0241db4b51825c0e5bd9a765c2": {
      "model_module": "@jupyter-widgets/base",
      "model_module_version": "1.2.0",
      "model_name": "LayoutModel",
      "state": {}
     },
     "fc2139b1551f4af98de664a5222fd0a4": {
      "model_module": "@jupyter-widgets/controls",
      "model_module_version": "1.5.0",
      "model_name": "HTMLModel",
      "state": {
       "layout": "IPY_MODEL_9dfb8cdf84ee495fb4f32aeee1ebc8b7",
       "style": "IPY_MODEL_19ca502cf17641c1b9e709651326d0d4",
       "value": "100% 75/75 [00:01&lt;00:00, 49.15it/s]"
      }
     },
     "fe46bd5d867346f59d2cc7deef4f89b4": {
      "model_module": "@jupyter-widgets/base",
      "model_module_version": "1.2.0",
      "model_name": "LayoutModel",
      "state": {}
     }
    },
    "version_major": 2,
    "version_minor": 0
   }
  }
 },
 "nbformat": 4,
 "nbformat_minor": 4
}
